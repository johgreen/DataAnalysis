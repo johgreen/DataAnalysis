{
 "cells": [
  {
   "cell_type": "markdown",
   "metadata": {},
   "source": [
    "# In this Notebook, I present a K-Nearest Neighbors algorithm from scratch. "
   ]
  },
  {
   "cell_type": "code",
   "execution_count": 7,
   "metadata": {},
   "outputs": [],
   "source": [
    "from collections import Counter\n",
    "import numpy as np\n",
    "import pandas as pd\n",
    "\n",
    "\n",
    "class KNearestNeighbor:\n",
    "    \n",
    "    def __init__(self, n_neighbors = 3):\n",
    "        self.n_neighbors = n_neighbors\n",
    "        if type(self.n_neighbors) is not type(np.int()): #must be discrete number of neighbors\n",
    "            print('n_neighbors requires type int')\n",
    "        \n",
    "    def n_neighbors(self):\n",
    "        return self.n_neighbors\n",
    "        \n",
    "    def fit(self, X, y): #Set the 'k' value to a default value during fitting. \n",
    "        global table\n",
    "        table = np.c_[list(X),list(y)]\n",
    "        self.classes_ = np.unique(y)\n",
    "    \n",
    "    def classes_(self):\n",
    "        return self.classes_ \n",
    "    \n",
    "    def predict(self, test_value):\n",
    "        '''\n",
    "        predict the label of value(s) in test_value\n",
    "        '''\n",
    "        distance_list = []\n",
    "        label_list = []\n",
    "        min_distances = []\n",
    "        c = 0\n",
    "        try:\n",
    "            for i in test_value:\n",
    "                for j in table[:,0:-1]:\n",
    "                    subtract_values = i - j\n",
    "                    distance = np.sqrt( subtract_values[0]**2 + subtract_values[1]**2 ) #calculates distance\n",
    "                    distance_list.append([distance,table[c,-1]]) \n",
    "                    minimum_distance = min(distance_list) \n",
    "                    c+=1\n",
    "                min_distances.append(sorted(distance_list)[:self.n_neighbors]) #finds n_neighbors number of min distances\n",
    "                distance_list = []\n",
    "                label_list.append(minimum_distance[1]) \n",
    "                c=0\n",
    "            min_distances1 = np.array(min_distances)[:,:,1] #get the labels of minimum distances\n",
    "        \n",
    "        \n",
    "            result_list = []\n",
    "            final_prediction = []\n",
    "            for i in min_distances1: #Determines the most frequent label. This is the final prediction \n",
    "                result = Counter(i)\n",
    "                result_list.append(result)\n",
    "                max_val_label = max(result.values())\n",
    "                res = [key for key in result if result[key] == max_val_label]\n",
    "                final_prediction.append(res)\n",
    "        \n",
    "            return final_prediction\n",
    "        \n",
    "    \n",
    "        except TypeError:\n",
    "            print('Check your formatting. Input a list or an array-like object.')\n",
    "            \n",
    "    "
   ]
  },
  {
   "cell_type": "markdown",
   "metadata": {},
   "source": [
    "### Let's create some random training data and corresponding labels."
   ]
  },
  {
   "cell_type": "code",
   "execution_count": null,
   "metadata": {},
   "outputs": [],
   "source": [
    "X = np.array([[1,2], [1,0] , [2,3] , [9,10], [11,9] , [10, 12]])\n",
    "y = [0,0,0,1,1,1]"
   ]
  },
  {
   "cell_type": "markdown",
   "metadata": {},
   "source": [
    "### Fit the model to the data"
   ]
  },
  {
   "cell_type": "code",
   "execution_count": 13,
   "metadata": {},
   "outputs": [],
   "source": [
    "KNN = KNearestNeighbor()\n",
    "KNN.fit(X, y)"
   ]
  },
  {
   "cell_type": "code",
   "execution_count": 14,
   "metadata": {},
   "outputs": [
    {
     "data": {
      "text/plain": [
       "array([0, 1])"
      ]
     },
     "execution_count": 14,
     "metadata": {},
     "output_type": "execute_result"
    }
   ],
   "source": [
    "KNN.classes_"
   ]
  },
  {
   "cell_type": "code",
   "execution_count": 15,
   "metadata": {},
   "outputs": [
    {
     "data": {
      "text/plain": [
       "3"
      ]
     },
     "execution_count": 15,
     "metadata": {},
     "output_type": "execute_result"
    }
   ],
   "source": [
    "KNN.n_neighbors"
   ]
  },
  {
   "cell_type": "markdown",
   "metadata": {},
   "source": [
    "### Now let's use the predict method to make label preditions."
   ]
  },
  {
   "cell_type": "code",
   "execution_count": 16,
   "metadata": {},
   "outputs": [
    {
     "data": {
      "text/plain": [
       "[[1.0], [0.0], [1.0], [0.0], [1.0]]"
      ]
     },
     "execution_count": 16,
     "metadata": {},
     "output_type": "execute_result"
    }
   ],
   "source": [
    "test_data = np.array([[8,5], [9,1], [10,12], [3,6] , [10,15]])\n",
    "KNN.predict(test_data)"
   ]
  },
  {
   "cell_type": "code",
   "execution_count": null,
   "metadata": {},
   "outputs": [],
   "source": []
  }
 ],
 "metadata": {
  "kernelspec": {
   "display_name": "Python 3",
   "language": "python",
   "name": "python3"
  },
  "language_info": {
   "codemirror_mode": {
    "name": "ipython",
    "version": 3
   },
   "file_extension": ".py",
   "mimetype": "text/x-python",
   "name": "python",
   "nbconvert_exporter": "python",
   "pygments_lexer": "ipython3",
   "version": "3.7.6"
  }
 },
 "nbformat": 4,
 "nbformat_minor": 4
}

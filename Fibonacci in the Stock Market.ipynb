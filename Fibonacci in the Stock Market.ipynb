{
 "cells": [
  {
   "cell_type": "markdown",
   "id": "civic-stretch",
   "metadata": {},
   "source": [
    "# The Fibonacci Sequence in the Stock Market"
   ]
  },
  {
   "cell_type": "markdown",
   "id": "chinese-sponsorship",
   "metadata": {},
   "source": [
    "### The Fibonacci Sequence can be found all throughout nature. Surprisingly, there are interesting examples of this mathematical phenominon in the stock market."
   ]
  },
  {
   "cell_type": "markdown",
   "id": "pursuant-concentrate",
   "metadata": {},
   "source": [
    "### If we took the first few terms of the Fibonacci sequence... 0, 1, 1, 2, 3, 5, 8, 13, 21, 34, 55, 89, 144, 233, 377, 610, 987, 1597, 2584, 4181... and then took the first number of each term (ex: for 1597 we would take the number 1, then for 2584 we would take the number 2 and so on) we would find that the frequency of the numbers are not what we would expect. "
   ]
  },
  {
   "cell_type": "markdown",
   "id": "ancient-immune",
   "metadata": {},
   "source": [
    "### The frequency of each number is not the same. Instead, the number 1 appears almost 30 percent of the time, and drops significantly as you get to the number 9, falling to just a few percent. This phenomenon is what we hope to observe in stock market data."
   ]
  },
  {
   "cell_type": "markdown",
   "id": "bound-response",
   "metadata": {},
   "source": [
    "### For this to work, we need to take data from a stock that has gone through growth over a couple orders of magnitude - I chose the BlackRock stock for this example. This should give us enough data to observe the Fibonacci Sequence. "
   ]
  },
  {
   "cell_type": "markdown",
   "id": "occupational-referral",
   "metadata": {},
   "source": [
    "### Let's dive in!"
   ]
  },
  {
   "cell_type": "code",
   "execution_count": 1,
   "id": "entertaining-heritage",
   "metadata": {},
   "outputs": [],
   "source": [
    "#import python libraries\n",
    "import matplotlib.pyplot as plt\n",
    "import numpy as np\n",
    "import yfinance as yf\n",
    "import pandas as pd"
   ]
  },
  {
   "cell_type": "code",
   "execution_count": 2,
   "id": "southwest-dependence",
   "metadata": {},
   "outputs": [
    {
     "data": {
      "text/html": [
       "<div>\n",
       "<style scoped>\n",
       "    .dataframe tbody tr th:only-of-type {\n",
       "        vertical-align: middle;\n",
       "    }\n",
       "\n",
       "    .dataframe tbody tr th {\n",
       "        vertical-align: top;\n",
       "    }\n",
       "\n",
       "    .dataframe thead th {\n",
       "        text-align: right;\n",
       "    }\n",
       "</style>\n",
       "<table border=\"1\" class=\"dataframe\">\n",
       "  <thead>\n",
       "    <tr style=\"text-align: right;\">\n",
       "      <th></th>\n",
       "      <th>Open</th>\n",
       "      <th>High</th>\n",
       "      <th>Low</th>\n",
       "      <th>Close</th>\n",
       "      <th>Volume</th>\n",
       "      <th>Dividends</th>\n",
       "      <th>Stock Splits</th>\n",
       "    </tr>\n",
       "    <tr>\n",
       "      <th>Date</th>\n",
       "      <th></th>\n",
       "      <th></th>\n",
       "      <th></th>\n",
       "      <th></th>\n",
       "      <th></th>\n",
       "      <th></th>\n",
       "      <th></th>\n",
       "    </tr>\n",
       "  </thead>\n",
       "  <tbody>\n",
       "    <tr>\n",
       "      <th>1999-10-01</th>\n",
       "      <td>9.136385</td>\n",
       "      <td>9.299535</td>\n",
       "      <td>9.136385</td>\n",
       "      <td>9.217960</td>\n",
       "      <td>3162400</td>\n",
       "      <td>0.0</td>\n",
       "      <td>0</td>\n",
       "    </tr>\n",
       "    <tr>\n",
       "      <th>1999-10-04</th>\n",
       "      <td>9.217963</td>\n",
       "      <td>9.217963</td>\n",
       "      <td>9.136388</td>\n",
       "      <td>9.136388</td>\n",
       "      <td>533400</td>\n",
       "      <td>0.0</td>\n",
       "      <td>0</td>\n",
       "    </tr>\n",
       "    <tr>\n",
       "      <th>1999-10-05</th>\n",
       "      <td>9.136385</td>\n",
       "      <td>9.217960</td>\n",
       "      <td>9.136385</td>\n",
       "      <td>9.217960</td>\n",
       "      <td>270600</td>\n",
       "      <td>0.0</td>\n",
       "      <td>0</td>\n",
       "    </tr>\n",
       "    <tr>\n",
       "      <th>1999-10-06</th>\n",
       "      <td>9.217962</td>\n",
       "      <td>9.707411</td>\n",
       "      <td>9.217962</td>\n",
       "      <td>9.707411</td>\n",
       "      <td>205400</td>\n",
       "      <td>0.0</td>\n",
       "      <td>0</td>\n",
       "    </tr>\n",
       "    <tr>\n",
       "      <th>1999-10-07</th>\n",
       "      <td>9.707410</td>\n",
       "      <td>9.707410</td>\n",
       "      <td>9.177173</td>\n",
       "      <td>9.217960</td>\n",
       "      <td>214200</td>\n",
       "      <td>0.0</td>\n",
       "      <td>0</td>\n",
       "    </tr>\n",
       "  </tbody>\n",
       "</table>\n",
       "</div>"
      ],
      "text/plain": [
       "                Open      High       Low     Close   Volume  Dividends  \\\n",
       "Date                                                                     \n",
       "1999-10-01  9.136385  9.299535  9.136385  9.217960  3162400        0.0   \n",
       "1999-10-04  9.217963  9.217963  9.136388  9.136388   533400        0.0   \n",
       "1999-10-05  9.136385  9.217960  9.136385  9.217960   270600        0.0   \n",
       "1999-10-06  9.217962  9.707411  9.217962  9.707411   205400        0.0   \n",
       "1999-10-07  9.707410  9.707410  9.177173  9.217960   214200        0.0   \n",
       "\n",
       "            Stock Splits  \n",
       "Date                      \n",
       "1999-10-01             0  \n",
       "1999-10-04             0  \n",
       "1999-10-05             0  \n",
       "1999-10-06             0  \n",
       "1999-10-07             0  "
      ]
     },
     "execution_count": 2,
     "metadata": {},
     "output_type": "execute_result"
    }
   ],
   "source": [
    "#Grab BlackRock Stock data\n",
    "blk = yf.Ticker('BLK')\n",
    "blk_hist = blk.history(period = 'max')\n",
    "blk_hist.head()"
   ]
  },
  {
   "cell_type": "code",
   "execution_count": 3,
   "id": "coastal-clarity",
   "metadata": {},
   "outputs": [],
   "source": [
    "#Get the first number of each closing price (as discussed above).\n",
    "\n",
    "close_price = blk_hist.Close\n",
    "close_price_str = close_price.astype(str)\n",
    "\n",
    "def first_number(sequence):\n",
    "    first_int = [sequence[i][0] for i in range(len(sequence))]\n",
    "    return first_int\n",
    "\n",
    "first_int = first_number(close_price_str)"
   ]
  },
  {
   "cell_type": "code",
   "execution_count": 4,
   "id": "linear-madonna",
   "metadata": {},
   "outputs": [],
   "source": [
    "#Determine the frequency of each first integer.\n",
    "\n",
    "def freq(first_ints):\n",
    "    counts = {}\n",
    "\n",
    "    for item in first_ints:\n",
    "        if item in counts:\n",
    "            counts[item] += 1\n",
    "        else:\n",
    "            counts[item] = 1\n",
    "    \n",
    "    ratios = list(counts.values()) / np.sum(list(counts.values()))\n",
    "\n",
    "    return counts, ratios"
   ]
  },
  {
   "cell_type": "code",
   "execution_count": 8,
   "id": "relevant-balance",
   "metadata": {},
   "outputs": [
    {
     "data": {
      "text/plain": [
       "({'9': 242,\n",
       "  '8': 238,\n",
       "  '1': 1664,\n",
       "  '2': 1439,\n",
       "  '3': 794,\n",
       "  '4': 645,\n",
       "  '5': 370,\n",
       "  '6': 161,\n",
       "  '7': 173},\n",
       " array([0.04226336, 0.04156479, 0.29060426, 0.25130981, 0.13866574,\n",
       "        0.11264408, 0.06461753, 0.02811736, 0.03021306]))"
      ]
     },
     "execution_count": 8,
     "metadata": {},
     "output_type": "execute_result"
    }
   ],
   "source": [
    "#Print results\n",
    "counts, ratios = freq(first_int)[0] , freq(first_int)[1]\n",
    "counts, ratios"
   ]
  },
  {
   "cell_type": "code",
   "execution_count": 98,
   "id": "foster-correlation",
   "metadata": {},
   "outputs": [
    {
     "data": {
      "text/html": [
       "<div>\n",
       "<style scoped>\n",
       "    .dataframe tbody tr th:only-of-type {\n",
       "        vertical-align: middle;\n",
       "    }\n",
       "\n",
       "    .dataframe tbody tr th {\n",
       "        vertical-align: top;\n",
       "    }\n",
       "\n",
       "    .dataframe thead th {\n",
       "        text-align: right;\n",
       "    }\n",
       "</style>\n",
       "<table border=\"1\" class=\"dataframe\">\n",
       "  <thead>\n",
       "    <tr style=\"text-align: right;\">\n",
       "      <th></th>\n",
       "      <th>Ints</th>\n",
       "      <th>Counts</th>\n",
       "      <th>Stock_Freq</th>\n",
       "    </tr>\n",
       "  </thead>\n",
       "  <tbody>\n",
       "    <tr>\n",
       "      <th>0</th>\n",
       "      <td>1</td>\n",
       "      <td>1664</td>\n",
       "      <td>0.290604</td>\n",
       "    </tr>\n",
       "    <tr>\n",
       "      <th>1</th>\n",
       "      <td>2</td>\n",
       "      <td>1439</td>\n",
       "      <td>0.251310</td>\n",
       "    </tr>\n",
       "    <tr>\n",
       "      <th>2</th>\n",
       "      <td>3</td>\n",
       "      <td>794</td>\n",
       "      <td>0.138666</td>\n",
       "    </tr>\n",
       "    <tr>\n",
       "      <th>3</th>\n",
       "      <td>4</td>\n",
       "      <td>645</td>\n",
       "      <td>0.112644</td>\n",
       "    </tr>\n",
       "    <tr>\n",
       "      <th>4</th>\n",
       "      <td>5</td>\n",
       "      <td>370</td>\n",
       "      <td>0.064618</td>\n",
       "    </tr>\n",
       "    <tr>\n",
       "      <th>5</th>\n",
       "      <td>6</td>\n",
       "      <td>161</td>\n",
       "      <td>0.028117</td>\n",
       "    </tr>\n",
       "    <tr>\n",
       "      <th>6</th>\n",
       "      <td>7</td>\n",
       "      <td>173</td>\n",
       "      <td>0.030213</td>\n",
       "    </tr>\n",
       "    <tr>\n",
       "      <th>7</th>\n",
       "      <td>8</td>\n",
       "      <td>238</td>\n",
       "      <td>0.041565</td>\n",
       "    </tr>\n",
       "    <tr>\n",
       "      <th>8</th>\n",
       "      <td>9</td>\n",
       "      <td>242</td>\n",
       "      <td>0.042263</td>\n",
       "    </tr>\n",
       "  </tbody>\n",
       "</table>\n",
       "</div>"
      ],
      "text/plain": [
       "  Ints  Counts  Stock_Freq\n",
       "0    1    1664    0.290604\n",
       "1    2    1439    0.251310\n",
       "2    3     794    0.138666\n",
       "3    4     645    0.112644\n",
       "4    5     370    0.064618\n",
       "5    6     161    0.028117\n",
       "6    7     173    0.030213\n",
       "7    8     238    0.041565\n",
       "8    9     242    0.042263"
      ]
     },
     "execution_count": 98,
     "metadata": {},
     "output_type": "execute_result"
    }
   ],
   "source": [
    "#Combine results into a dataframe\n",
    "\n",
    "def readable_df(counts , ratios, *col_names):\n",
    "    stock_df = pd.concat([ pd.Series(counts.keys()) , pd.Series(counts.values()) , pd.Series(ratios) ] , axis = 1)\n",
    "    stock_df.columns = list(col_names)\n",
    "    stock_df = stock_df.sort_values(col_names[0]).reset_index(drop = True)\n",
    "    return stock_df\n",
    "\n",
    "\n",
    "blk_df = readable_df(counts, ratios, 'Ints' , 'Counts' ,'Stock_Freq')\n",
    "blk_df"
   ]
  },
  {
   "cell_type": "markdown",
   "id": "liberal-highlight",
   "metadata": {},
   "source": [
    "### Now that we have the results of the stock data, let's take a moment to look at the results. We can see that the number 1 appears almost 30% of the time, 2 appears 25% and then it begins to drop rapidly until reaching a few percent after 5. "
   ]
  },
  {
   "cell_type": "markdown",
   "id": "bizarre-southeast",
   "metadata": {},
   "source": [
    "### Let's look at the actual Fibanacci Sequence now."
   ]
  },
  {
   "cell_type": "code",
   "execution_count": 75,
   "id": "authentic-working",
   "metadata": {},
   "outputs": [],
   "source": [
    "#Get the first 500 Fibonacci Numbers\n",
    "\n",
    "def fib(n, computed = {0: 0, 1: 1}):\n",
    "    if n not in computed:\n",
    "        computed[n] = fib(n-1, computed) + fib(n-2, computed)\n",
    "    return computed[n]\n",
    "\n",
    "\n",
    "nums = np.linspace(1,500,500)\n",
    "\n",
    "fib_nums = list(map(fib , nums))"
   ]
  },
  {
   "cell_type": "code",
   "execution_count": 79,
   "id": "quality-resolution",
   "metadata": {},
   "outputs": [
    {
     "data": {
      "text/plain": [
       "({'1': 151,\n",
       "  '2': 88,\n",
       "  '3': 63,\n",
       "  '5': 40,\n",
       "  '8': 27,\n",
       "  '6': 33,\n",
       "  '9': 22,\n",
       "  '4': 47,\n",
       "  '7': 29},\n",
       " array([0.302, 0.176, 0.126, 0.08 , 0.054, 0.066, 0.044, 0.094, 0.058]))"
      ]
     },
     "execution_count": 79,
     "metadata": {},
     "output_type": "execute_result"
    }
   ],
   "source": [
    "#Use the functions above to perform the same analysis on the Fibonacci Sequence numbers.\n",
    "\n",
    "#convert numbers in sequence to strings\n",
    "fib_nums = [str(i) for i in fib_nums]\n",
    "\n",
    "# grab first number from each num\n",
    "first_fib_nums = first_number(fib_nums)\n",
    "\n",
    "#calculate frequncy of nums\n",
    "freq_fib_nums = freq(first_fib_nums)\n",
    "\n",
    "fib_counts, fib_ratios = freq_fib_nums[0] , freq_fib_nums[1]\n",
    "fib_counts, fib_ratios"
   ]
  },
  {
   "cell_type": "code",
   "execution_count": 99,
   "id": "hired-security",
   "metadata": {},
   "outputs": [
    {
     "data": {
      "text/html": [
       "<div>\n",
       "<style scoped>\n",
       "    .dataframe tbody tr th:only-of-type {\n",
       "        vertical-align: middle;\n",
       "    }\n",
       "\n",
       "    .dataframe tbody tr th {\n",
       "        vertical-align: top;\n",
       "    }\n",
       "\n",
       "    .dataframe thead th {\n",
       "        text-align: right;\n",
       "    }\n",
       "</style>\n",
       "<table border=\"1\" class=\"dataframe\">\n",
       "  <thead>\n",
       "    <tr style=\"text-align: right;\">\n",
       "      <th></th>\n",
       "      <th>fib_ints</th>\n",
       "      <th>fib_counts</th>\n",
       "      <th>fib_ratios</th>\n",
       "    </tr>\n",
       "  </thead>\n",
       "  <tbody>\n",
       "    <tr>\n",
       "      <th>0</th>\n",
       "      <td>1</td>\n",
       "      <td>151</td>\n",
       "      <td>0.302</td>\n",
       "    </tr>\n",
       "    <tr>\n",
       "      <th>1</th>\n",
       "      <td>2</td>\n",
       "      <td>88</td>\n",
       "      <td>0.176</td>\n",
       "    </tr>\n",
       "    <tr>\n",
       "      <th>2</th>\n",
       "      <td>3</td>\n",
       "      <td>63</td>\n",
       "      <td>0.126</td>\n",
       "    </tr>\n",
       "    <tr>\n",
       "      <th>3</th>\n",
       "      <td>4</td>\n",
       "      <td>47</td>\n",
       "      <td>0.094</td>\n",
       "    </tr>\n",
       "    <tr>\n",
       "      <th>4</th>\n",
       "      <td>5</td>\n",
       "      <td>40</td>\n",
       "      <td>0.080</td>\n",
       "    </tr>\n",
       "    <tr>\n",
       "      <th>5</th>\n",
       "      <td>6</td>\n",
       "      <td>33</td>\n",
       "      <td>0.066</td>\n",
       "    </tr>\n",
       "    <tr>\n",
       "      <th>6</th>\n",
       "      <td>7</td>\n",
       "      <td>29</td>\n",
       "      <td>0.058</td>\n",
       "    </tr>\n",
       "    <tr>\n",
       "      <th>7</th>\n",
       "      <td>8</td>\n",
       "      <td>27</td>\n",
       "      <td>0.054</td>\n",
       "    </tr>\n",
       "    <tr>\n",
       "      <th>8</th>\n",
       "      <td>9</td>\n",
       "      <td>22</td>\n",
       "      <td>0.044</td>\n",
       "    </tr>\n",
       "  </tbody>\n",
       "</table>\n",
       "</div>"
      ],
      "text/plain": [
       "  fib_ints  fib_counts  fib_ratios\n",
       "0        1         151       0.302\n",
       "1        2          88       0.176\n",
       "2        3          63       0.126\n",
       "3        4          47       0.094\n",
       "4        5          40       0.080\n",
       "5        6          33       0.066\n",
       "6        7          29       0.058\n",
       "7        8          27       0.054\n",
       "8        9          22       0.044"
      ]
     },
     "execution_count": 99,
     "metadata": {},
     "output_type": "execute_result"
    }
   ],
   "source": [
    "#create a readable dataframe for the Fib sequence\n",
    "fib_df = readable_df(fib_counts, fib_ratios , 'fib_ints' , 'fib_counts' , 'fib_ratios')\n",
    "fib_df"
   ]
  },
  {
   "cell_type": "markdown",
   "id": "interracial-integer",
   "metadata": {},
   "source": [
    "### Now we have all the data we need to visualize how closely BlackRock stock follows the Fibonacci Sequence."
   ]
  },
  {
   "cell_type": "code",
   "execution_count": 100,
   "id": "baking-catch",
   "metadata": {},
   "outputs": [
    {
     "data": {
      "image/png": "[encoded data removed]",
      "text/plain": [
       "<Figure size 1800x960 with 1 Axes>"
      ]
     },
     "metadata": {
      "needs_background": "light"
     },
     "output_type": "display_data"
    }
   ],
   "source": [
    "plt_1 = plt.figure(figsize=(15,8), dpi = 120)\n",
    "plt.bar(blk_df.iloc[:,0] , blk_df.iloc[:,2] , label = 'BlackRock' ,\n",
    "        alpha = 0.5, color = 'g')\n",
    "plt.plot(fib_df.iloc[:,0] , fib_df.iloc[:,2] , label = 'Fibonacci Sequence' ,\n",
    "         color = 'b')\n",
    "\n",
    "\n",
    "plt.title('BlackRock Stock Follows The Fibonacci Sequence')\n",
    "plt.legend()\n",
    "plt.savefig(r'C:\\Users\\John Green\\Desktop\\BlackRockAndFibonacci.png')\n",
    "plt.show()"
   ]
  },
  {
   "cell_type": "markdown",
   "id": "diagnostic-latino",
   "metadata": {},
   "source": [
    "### Interesting! The BlackRock Stock appears to trend quite closely with the Fibonacci Sequence. Let's calculate the Mean Squared Error between their respective ratios"
   ]
  },
  {
   "cell_type": "code",
   "execution_count": 104,
   "id": "valuable-fiber",
   "metadata": {},
   "outputs": [
    {
     "name": "stdout",
     "output_type": "stream",
     "text": [
      "MSE: 0.00099\n"
     ]
    }
   ],
   "source": [
    "def mse(stock , fib):\n",
    "    mse_ = (np.sum((stock - fib)**2))/len(stock)\n",
    "    return round(mse_ , 5) \n",
    "\n",
    "mse_result = mse(blk_df['Stock_Freq'] , fib_df['fib_ratios'])\n",
    "\n",
    "print('MSE: {}'.format(mse_result))"
   ]
  }
 ],
 "metadata": {
  "kernelspec": {
   "display_name": "Python 3",
   "language": "python",
   "name": "python3"
  },
  "language_info": {
   "codemirror_mode": {
    "name": "ipython",
    "version": 3
   },
   "file_extension": ".py",
   "mimetype": "text/x-python",
   "name": "python",
   "nbconvert_exporter": "python",
   "pygments_lexer": "ipython3",
   "version": "3.9.13"
  }
 },
 "nbformat": 4,
 "nbformat_minor": 5
}
